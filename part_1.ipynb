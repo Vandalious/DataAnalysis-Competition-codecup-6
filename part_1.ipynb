{
 "cells": [
  {
   "cell_type": "markdown",
   "metadata": {},
   "source": [
    "# Codecup 6: Data Analysis | Part 1\n",
    "### Author: Arash Hajian nezhad\n",
    "---"
   ]
  },
  {
   "cell_type": "markdown",
   "metadata": {},
   "source": [
    "#### Imports"
   ]
  },
  {
   "cell_type": "code",
   "execution_count": 15,
   "metadata": {},
   "outputs": [],
   "source": [
    "import numpy as np\n",
    "import pandas as pd"
   ]
  },
  {
   "cell_type": "markdown",
   "metadata": {},
   "source": [
    "#### Data loading"
   ]
  },
  {
   "cell_type": "code",
   "execution_count": 16,
   "metadata": {},
   "outputs": [
    {
     "data": {
      "text/html": [
       "<div>\n",
       "<style scoped>\n",
       "    .dataframe tbody tr th:only-of-type {\n",
       "        vertical-align: middle;\n",
       "    }\n",
       "\n",
       "    .dataframe tbody tr th {\n",
       "        vertical-align: top;\n",
       "    }\n",
       "\n",
       "    .dataframe thead th {\n",
       "        text-align: right;\n",
       "    }\n",
       "</style>\n",
       "<table border=\"1\" class=\"dataframe\">\n",
       "  <thead>\n",
       "    <tr style=\"text-align: right;\">\n",
       "      <th></th>\n",
       "      <th>Customer Id</th>\n",
       "      <th>Age</th>\n",
       "      <th>Employment Type</th>\n",
       "      <th>GraduateOrNot</th>\n",
       "      <th>AnnualIncome</th>\n",
       "      <th>FamilyMembers</th>\n",
       "      <th>ChronicDiseases</th>\n",
       "      <th>FrequentFlyer</th>\n",
       "      <th>EverTravelledAbroad</th>\n",
       "      <th>TravelInsurance</th>\n",
       "    </tr>\n",
       "  </thead>\n",
       "  <tbody>\n",
       "    <tr>\n",
       "      <th>0</th>\n",
       "      <td>3JUN0VW6F043</td>\n",
       "      <td>34</td>\n",
       "      <td>Private Sector/Self Employed</td>\n",
       "      <td>Yes</td>\n",
       "      <td>1300000</td>\n",
       "      <td>6</td>\n",
       "      <td>0</td>\n",
       "      <td>Yes</td>\n",
       "      <td>No</td>\n",
       "      <td>No</td>\n",
       "    </tr>\n",
       "    <tr>\n",
       "      <th>1</th>\n",
       "      <td>VLHY2ABIR4QL</td>\n",
       "      <td>28</td>\n",
       "      <td>Private Sector/Self Employed</td>\n",
       "      <td>Yes</td>\n",
       "      <td>750000</td>\n",
       "      <td>7</td>\n",
       "      <td>0</td>\n",
       "      <td>Yes</td>\n",
       "      <td>No</td>\n",
       "      <td>No</td>\n",
       "    </tr>\n",
       "    <tr>\n",
       "      <th>2</th>\n",
       "      <td>6E3F7UNXYNFF</td>\n",
       "      <td>28</td>\n",
       "      <td>Private Sector/Self Employed</td>\n",
       "      <td>Yes</td>\n",
       "      <td>750000</td>\n",
       "      <td>6</td>\n",
       "      <td>0</td>\n",
       "      <td>Yes</td>\n",
       "      <td>No</td>\n",
       "      <td>No</td>\n",
       "    </tr>\n",
       "    <tr>\n",
       "      <th>3</th>\n",
       "      <td>JJ8R0ZRYWR31</td>\n",
       "      <td>32</td>\n",
       "      <td>Government Sector</td>\n",
       "      <td>Yes</td>\n",
       "      <td>800000</td>\n",
       "      <td>6</td>\n",
       "      <td>1</td>\n",
       "      <td>No</td>\n",
       "      <td>No</td>\n",
       "      <td>No</td>\n",
       "    </tr>\n",
       "    <tr>\n",
       "      <th>4</th>\n",
       "      <td>2WGFUEX6IEHM</td>\n",
       "      <td>34</td>\n",
       "      <td>Private Sector/Self Employed</td>\n",
       "      <td>Yes</td>\n",
       "      <td>700000</td>\n",
       "      <td>4</td>\n",
       "      <td>1</td>\n",
       "      <td>No</td>\n",
       "      <td>No</td>\n",
       "      <td>No</td>\n",
       "    </tr>\n",
       "  </tbody>\n",
       "</table>\n",
       "</div>"
      ],
      "text/plain": [
       "    Customer Id  Age               Employment Type GraduateOrNot  \\\n",
       "0  3JUN0VW6F043   34  Private Sector/Self Employed           Yes   \n",
       "1  VLHY2ABIR4QL   28  Private Sector/Self Employed           Yes   \n",
       "2  6E3F7UNXYNFF   28  Private Sector/Self Employed           Yes   \n",
       "3  JJ8R0ZRYWR31   32             Government Sector           Yes   \n",
       "4  2WGFUEX6IEHM   34  Private Sector/Self Employed           Yes   \n",
       "\n",
       "   AnnualIncome  FamilyMembers  ChronicDiseases FrequentFlyer  \\\n",
       "0       1300000              6                0           Yes   \n",
       "1        750000              7                0           Yes   \n",
       "2        750000              6                0           Yes   \n",
       "3        800000              6                1            No   \n",
       "4        700000              4                1            No   \n",
       "\n",
       "  EverTravelledAbroad TravelInsurance  \n",
       "0                  No              No  \n",
       "1                  No              No  \n",
       "2                  No              No  \n",
       "3                  No              No  \n",
       "4                  No              No  "
      ]
     },
     "execution_count": 16,
     "metadata": {},
     "output_type": "execute_result"
    }
   ],
   "source": [
    "output = ''\n",
    "df = pd.read_csv('data/train.csv')\n",
    "df.head()"
   ]
  },
  {
   "cell_type": "markdown",
   "metadata": {},
   "source": [
    "## Question 1\n",
    "### Get the `rows` and `columns` counts of the dataset. (seperated by space)"
   ]
  },
  {
   "cell_type": "code",
   "execution_count": 17,
   "metadata": {},
   "outputs": [
    {
     "name": "stdout",
     "output_type": "stream",
     "text": [
      "1590 10\n"
     ]
    }
   ],
   "source": [
    "answer = f'{len(df)} {len(df.columns)}'\n",
    "output += answer + '\\n'\n",
    "print(answer)"
   ]
  },
  {
   "cell_type": "markdown",
   "metadata": {},
   "source": [
    "## Question 2\n",
    "### What is the `average annual income` of the customers? (just the integer part)"
   ]
  },
  {
   "cell_type": "code",
   "execution_count": 10,
   "metadata": {},
   "outputs": [
    {
     "name": "stdout",
     "output_type": "stream",
     "text": [
      "928553\n"
     ]
    }
   ],
   "source": [
    "answer = f'{int(df[\"AnnualIncome\"].mean())}'\n",
    "output += answer + '\\n'\n",
    "print(int(df['AnnualIncome'].mean()))"
   ]
  },
  {
   "cell_type": "markdown",
   "metadata": {},
   "source": [
    "## Question 3\n",
    "### How many customers have ever `travelled abroad`?"
   ]
  },
  {
   "cell_type": "code",
   "execution_count": 11,
   "metadata": {},
   "outputs": [
    {
     "name": "stdout",
     "output_type": "stream",
     "text": [
      "302\n"
     ]
    }
   ],
   "source": [
    "answer = f'{len(df[df[\"EverTravelledAbroad\"] == \"Yes\"])}'\n",
    "output += answer + '\\n'\n",
    "print(len(df[df['EverTravelledAbroad'] == 'Yes']))"
   ]
  },
  {
   "cell_type": "markdown",
   "metadata": {},
   "source": [
    "## Question 4\n",
    "### Determine whether most of the customers are `Self-employed`, or work at a `Government Sector`. Show the percentage of it as well."
   ]
  },
  {
   "cell_type": "code",
   "execution_count": 12,
   "metadata": {},
   "outputs": [
    {
     "name": "stdout",
     "output_type": "stream",
     "text": [
      "Private Sector/Self Employed 72.64\n"
     ]
    }
   ],
   "source": [
    "types = df['Employment Type'].value_counts().index.to_list()\n",
    "counts = df['Employment Type'].value_counts(normalize=True).to_list()\n",
    "\n",
    "max_type = ''\n",
    "max_count = 0\n",
    "for i, j in zip(types, counts):\n",
    "    if j > max_count:\n",
    "        max_type = i\n",
    "        max_count = round(j * 100, 2)\n",
    "\n",
    "answer = f'{max_type} {max_count}'\n",
    "output += answer + '\\n'\n",
    "print(answer)"
   ]
  },
  {
   "cell_type": "markdown",
   "metadata": {},
   "source": [
    "## Question 5\n",
    "### Out of the customers having `chronic disease`, what percentage of them have `travel insurance`?"
   ]
  },
  {
   "cell_type": "code",
   "execution_count": 13,
   "metadata": {},
   "outputs": [
    {
     "name": "stdout",
     "output_type": "stream",
     "text": [
      "10.50\n"
     ]
    }
   ],
   "source": [
    "chronic_and_travelinsurance_count = len(df.query('ChronicDiseases == 1 and TravelInsurance == \"Yes\"'))\n",
    "total = len(df)\n",
    "\n",
    "percentage = ((chronic_and_travelinsurance_count / total) * 100)\n",
    "\n",
    "answer = f'{percentage:.2f}'\n",
    "output += answer\n",
    "print(answer)"
   ]
  },
  {
   "cell_type": "markdown",
   "metadata": {},
   "source": [
    "#### Saving the output file"
   ]
  },
  {
   "cell_type": "code",
   "execution_count": 14,
   "metadata": {},
   "outputs": [],
   "source": [
    "with open('part_1_output.txt', 'w') as file:\n",
    "    file.write(output)"
   ]
  }
 ],
 "metadata": {
  "kernelspec": {
   "display_name": "Python 3.10.6 ('general')",
   "language": "python",
   "name": "python3"
  },
  "language_info": {
   "codemirror_mode": {
    "name": "ipython",
    "version": 3
   },
   "file_extension": ".py",
   "mimetype": "text/x-python",
   "name": "python",
   "nbconvert_exporter": "python",
   "pygments_lexer": "ipython3",
   "version": "3.10.6"
  },
  "orig_nbformat": 4,
  "vscode": {
   "interpreter": {
    "hash": "93ba80db7eb8e04daf07a178422352a6b14caa6745ec1876f663cbafebefbfa2"
   }
  }
 },
 "nbformat": 4,
 "nbformat_minor": 2
}
