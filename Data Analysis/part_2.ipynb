{
 "cells": [
  {
   "cell_type": "markdown",
   "metadata": {},
   "source": [
    "# Codecup 6: Data Analysis | Part 2\n",
    "### Author: Arash Hajian nezhad\n",
    "\n",
    "---"
   ]
  },
  {
   "cell_type": "markdown",
   "metadata": {},
   "source": [
    "#### Imports"
   ]
  },
  {
   "cell_type": "code",
   "execution_count": 1,
   "metadata": {},
   "outputs": [],
   "source": [
    "import numpy as np\n",
    "import pandas as pd"
   ]
  },
  {
   "cell_type": "markdown",
   "metadata": {},
   "source": [
    "#### Data loading and processing"
   ]
  },
  {
   "cell_type": "code",
   "execution_count": 2,
   "metadata": {},
   "outputs": [
    {
     "data": {
      "text/html": [
       "<div>\n",
       "<style scoped>\n",
       "    .dataframe tbody tr th:only-of-type {\n",
       "        vertical-align: middle;\n",
       "    }\n",
       "\n",
       "    .dataframe tbody tr th {\n",
       "        vertical-align: top;\n",
       "    }\n",
       "\n",
       "    .dataframe thead th {\n",
       "        text-align: right;\n",
       "    }\n",
       "</style>\n",
       "<table border=\"1\" class=\"dataframe\">\n",
       "  <thead>\n",
       "    <tr style=\"text-align: right;\">\n",
       "      <th></th>\n",
       "      <th>Customer Id</th>\n",
       "      <th>Age</th>\n",
       "      <th>Employment Type</th>\n",
       "      <th>GraduateOrNot</th>\n",
       "      <th>AnnualIncome</th>\n",
       "      <th>FamilyMembers</th>\n",
       "      <th>ChronicDiseases</th>\n",
       "      <th>FrequentFlyer</th>\n",
       "      <th>EverTravelledAbroad</th>\n",
       "      <th>TravelInsurance</th>\n",
       "    </tr>\n",
       "  </thead>\n",
       "  <tbody>\n",
       "    <tr>\n",
       "      <th>0</th>\n",
       "      <td>3JUN0VW6F043</td>\n",
       "      <td>34</td>\n",
       "      <td>Private Sector/Self Employed</td>\n",
       "      <td>Yes</td>\n",
       "      <td>1300000</td>\n",
       "      <td>6</td>\n",
       "      <td>0</td>\n",
       "      <td>Yes</td>\n",
       "      <td>No</td>\n",
       "      <td>No</td>\n",
       "    </tr>\n",
       "    <tr>\n",
       "      <th>1</th>\n",
       "      <td>VLHY2ABIR4QL</td>\n",
       "      <td>28</td>\n",
       "      <td>Private Sector/Self Employed</td>\n",
       "      <td>Yes</td>\n",
       "      <td>750000</td>\n",
       "      <td>7</td>\n",
       "      <td>0</td>\n",
       "      <td>Yes</td>\n",
       "      <td>No</td>\n",
       "      <td>No</td>\n",
       "    </tr>\n",
       "    <tr>\n",
       "      <th>2</th>\n",
       "      <td>6E3F7UNXYNFF</td>\n",
       "      <td>28</td>\n",
       "      <td>Private Sector/Self Employed</td>\n",
       "      <td>Yes</td>\n",
       "      <td>750000</td>\n",
       "      <td>6</td>\n",
       "      <td>0</td>\n",
       "      <td>Yes</td>\n",
       "      <td>No</td>\n",
       "      <td>No</td>\n",
       "    </tr>\n",
       "    <tr>\n",
       "      <th>3</th>\n",
       "      <td>JJ8R0ZRYWR31</td>\n",
       "      <td>32</td>\n",
       "      <td>Government Sector</td>\n",
       "      <td>Yes</td>\n",
       "      <td>800000</td>\n",
       "      <td>6</td>\n",
       "      <td>1</td>\n",
       "      <td>No</td>\n",
       "      <td>No</td>\n",
       "      <td>No</td>\n",
       "    </tr>\n",
       "    <tr>\n",
       "      <th>4</th>\n",
       "      <td>2WGFUEX6IEHM</td>\n",
       "      <td>34</td>\n",
       "      <td>Private Sector/Self Employed</td>\n",
       "      <td>Yes</td>\n",
       "      <td>700000</td>\n",
       "      <td>4</td>\n",
       "      <td>1</td>\n",
       "      <td>No</td>\n",
       "      <td>No</td>\n",
       "      <td>No</td>\n",
       "    </tr>\n",
       "  </tbody>\n",
       "</table>\n",
       "</div>"
      ],
      "text/plain": [
       "    Customer Id  Age               Employment Type GraduateOrNot  \\\n",
       "0  3JUN0VW6F043   34  Private Sector/Self Employed           Yes   \n",
       "1  VLHY2ABIR4QL   28  Private Sector/Self Employed           Yes   \n",
       "2  6E3F7UNXYNFF   28  Private Sector/Self Employed           Yes   \n",
       "3  JJ8R0ZRYWR31   32             Government Sector           Yes   \n",
       "4  2WGFUEX6IEHM   34  Private Sector/Self Employed           Yes   \n",
       "\n",
       "   AnnualIncome  FamilyMembers  ChronicDiseases FrequentFlyer  \\\n",
       "0       1300000              6                0           Yes   \n",
       "1        750000              7                0           Yes   \n",
       "2        750000              6                0           Yes   \n",
       "3        800000              6                1            No   \n",
       "4        700000              4                1            No   \n",
       "\n",
       "  EverTravelledAbroad TravelInsurance  \n",
       "0                  No              No  \n",
       "1                  No              No  \n",
       "2                  No              No  \n",
       "3                  No              No  \n",
       "4                  No              No  "
      ]
     },
     "execution_count": 2,
     "metadata": {},
     "output_type": "execute_result"
    }
   ],
   "source": [
    "\"\"\"\n",
    "The test dataset does not contain labels,\n",
    "as it was used for scorings in the competition.\n",
    "\"\"\"\n",
    "\n",
    "df = pd.read_csv('data/train.csv')\n",
    "df.head()"
   ]
  },
  {
   "cell_type": "markdown",
   "metadata": {},
   "source": [
    "#### Dropping the id column for training"
   ]
  },
  {
   "cell_type": "code",
   "execution_count": 3,
   "metadata": {},
   "outputs": [
    {
     "data": {
      "text/html": [
       "<div>\n",
       "<style scoped>\n",
       "    .dataframe tbody tr th:only-of-type {\n",
       "        vertical-align: middle;\n",
       "    }\n",
       "\n",
       "    .dataframe tbody tr th {\n",
       "        vertical-align: top;\n",
       "    }\n",
       "\n",
       "    .dataframe thead th {\n",
       "        text-align: right;\n",
       "    }\n",
       "</style>\n",
       "<table border=\"1\" class=\"dataframe\">\n",
       "  <thead>\n",
       "    <tr style=\"text-align: right;\">\n",
       "      <th></th>\n",
       "      <th>Age</th>\n",
       "      <th>Employment Type</th>\n",
       "      <th>GraduateOrNot</th>\n",
       "      <th>AnnualIncome</th>\n",
       "      <th>FamilyMembers</th>\n",
       "      <th>ChronicDiseases</th>\n",
       "      <th>FrequentFlyer</th>\n",
       "      <th>EverTravelledAbroad</th>\n",
       "      <th>TravelInsurance</th>\n",
       "    </tr>\n",
       "  </thead>\n",
       "  <tbody>\n",
       "    <tr>\n",
       "      <th>0</th>\n",
       "      <td>34</td>\n",
       "      <td>Private Sector/Self Employed</td>\n",
       "      <td>Yes</td>\n",
       "      <td>1300000</td>\n",
       "      <td>6</td>\n",
       "      <td>0</td>\n",
       "      <td>Yes</td>\n",
       "      <td>No</td>\n",
       "      <td>No</td>\n",
       "    </tr>\n",
       "    <tr>\n",
       "      <th>1</th>\n",
       "      <td>28</td>\n",
       "      <td>Private Sector/Self Employed</td>\n",
       "      <td>Yes</td>\n",
       "      <td>750000</td>\n",
       "      <td>7</td>\n",
       "      <td>0</td>\n",
       "      <td>Yes</td>\n",
       "      <td>No</td>\n",
       "      <td>No</td>\n",
       "    </tr>\n",
       "    <tr>\n",
       "      <th>2</th>\n",
       "      <td>28</td>\n",
       "      <td>Private Sector/Self Employed</td>\n",
       "      <td>Yes</td>\n",
       "      <td>750000</td>\n",
       "      <td>6</td>\n",
       "      <td>0</td>\n",
       "      <td>Yes</td>\n",
       "      <td>No</td>\n",
       "      <td>No</td>\n",
       "    </tr>\n",
       "    <tr>\n",
       "      <th>3</th>\n",
       "      <td>32</td>\n",
       "      <td>Government Sector</td>\n",
       "      <td>Yes</td>\n",
       "      <td>800000</td>\n",
       "      <td>6</td>\n",
       "      <td>1</td>\n",
       "      <td>No</td>\n",
       "      <td>No</td>\n",
       "      <td>No</td>\n",
       "    </tr>\n",
       "    <tr>\n",
       "      <th>4</th>\n",
       "      <td>34</td>\n",
       "      <td>Private Sector/Self Employed</td>\n",
       "      <td>Yes</td>\n",
       "      <td>700000</td>\n",
       "      <td>4</td>\n",
       "      <td>1</td>\n",
       "      <td>No</td>\n",
       "      <td>No</td>\n",
       "      <td>No</td>\n",
       "    </tr>\n",
       "  </tbody>\n",
       "</table>\n",
       "</div>"
      ],
      "text/plain": [
       "   Age               Employment Type GraduateOrNot  AnnualIncome  \\\n",
       "0   34  Private Sector/Self Employed           Yes       1300000   \n",
       "1   28  Private Sector/Self Employed           Yes        750000   \n",
       "2   28  Private Sector/Self Employed           Yes        750000   \n",
       "3   32             Government Sector           Yes        800000   \n",
       "4   34  Private Sector/Self Employed           Yes        700000   \n",
       "\n",
       "   FamilyMembers  ChronicDiseases FrequentFlyer EverTravelledAbroad  \\\n",
       "0              6                0           Yes                  No   \n",
       "1              7                0           Yes                  No   \n",
       "2              6                0           Yes                  No   \n",
       "3              6                1            No                  No   \n",
       "4              4                1            No                  No   \n",
       "\n",
       "  TravelInsurance  \n",
       "0              No  \n",
       "1              No  \n",
       "2              No  \n",
       "3              No  \n",
       "4              No  "
      ]
     },
     "execution_count": 3,
     "metadata": {},
     "output_type": "execute_result"
    }
   ],
   "source": [
    "df.drop('Customer Id', axis=1, inplace=True)\n",
    "df.head()"
   ]
  },
  {
   "cell_type": "markdown",
   "metadata": {},
   "source": [
    "#### Specifying categorical features' indices for CatBoost"
   ]
  },
  {
   "cell_type": "code",
   "execution_count": 4,
   "metadata": {},
   "outputs": [],
   "source": [
    "# `Chronic Diseases` is either 0 or 1, hence -> categorical\n",
    "categorical_features_indices = (1, 2, 5, 6, 7)"
   ]
  },
  {
   "cell_type": "markdown",
   "metadata": {},
   "source": [
    "#### Label seperation & Data splitting for training & validation"
   ]
  },
  {
   "cell_type": "code",
   "execution_count": 5,
   "metadata": {},
   "outputs": [],
   "source": [
    "from sklearn.model_selection import train_test_split\n",
    "\n",
    "\n",
    "X = df.drop('TravelInsurance', axis=1)\n",
    "y = df['TravelInsurance']\n",
    "\n",
    "# 0.85 is used because the dataset is very small\n",
    "X_train, X_validation, y_train, y_validation = train_test_split(X, y, train_size=0.85)"
   ]
  },
  {
   "cell_type": "markdown",
   "metadata": {},
   "source": [
    "#### `CatBoost` model hyperparameters tuning using `Optuna`"
   ]
  },
  {
   "cell_type": "code",
   "execution_count": 6,
   "metadata": {},
   "outputs": [
    {
     "name": "stderr",
     "output_type": "stream",
     "text": [
      "\u001b[32m[I 2022-10-31 21:57:58,315]\u001b[0m A new study created in memory with name: no-name-d9a06aa8-d125-4703-980b-14a6bd94107e\u001b[0m\n",
      "\u001b[32m[I 2022-10-31 21:58:00,394]\u001b[0m Trial 0 finished with value: 0.7949787655049407 and parameters: {'l2_leaf_reg': 0.005798851364794512, 'learning_rate': 0.3592009934136991, 'colsample_bylevel': 0.019054426329361697, 'depth': 7, 'boosting_type': 'Plain', 'bootstrap_type': 'Bernoulli', 'subsample': 0.5931427234405031}. Best is trial 0 with value: 0.7949787655049407.\u001b[0m\n",
      "\u001b[32m[I 2022-10-31 21:58:02,537]\u001b[0m Trial 1 finished with value: 0.8289399123985141 and parameters: {'l2_leaf_reg': 0.014423626517853345, 'learning_rate': 0.47811975700397186, 'colsample_bylevel': 0.09057840730126115, 'depth': 3, 'boosting_type': 'Plain', 'bootstrap_type': 'MVS'}. Best is trial 1 with value: 0.8289399123985141.\u001b[0m\n",
      "\u001b[32m[I 2022-10-31 21:58:08,670]\u001b[0m Trial 2 finished with value: 0.7943450745887962 and parameters: {'l2_leaf_reg': 0.0011516996607183433, 'learning_rate': 0.18205770077305988, 'colsample_bylevel': 0.021952738393536928, 'depth': 11, 'boosting_type': 'Ordered', 'bootstrap_type': 'Bernoulli', 'subsample': 0.7437219552559071}. Best is trial 1 with value: 0.8289399123985141.\u001b[0m\n",
      "\u001b[32m[I 2022-10-31 21:58:10,263]\u001b[0m Trial 3 finished with value: 0.7987381104168666 and parameters: {'l2_leaf_reg': 0.0032280700693983373, 'learning_rate': 0.4721096903671239, 'colsample_bylevel': 0.025912630793784176, 'depth': 9, 'boosting_type': 'Plain', 'bootstrap_type': 'Bayesian', 'bagging_temperature': 4.113810087788183}. Best is trial 1 with value: 0.8289399123985141.\u001b[0m\n",
      "\u001b[32m[I 2022-10-31 21:58:16,823]\u001b[0m Trial 4 finished with value: 0.8283062304383403 and parameters: {'l2_leaf_reg': 1.535064908088147, 'learning_rate': 0.45554278361765277, 'colsample_bylevel': 0.08993911229948859, 'depth': 5, 'boosting_type': 'Ordered', 'bootstrap_type': 'Bayesian', 'bagging_temperature': 5.499962868758703}. Best is trial 1 with value: 0.8289399123985141.\u001b[0m\n",
      "\u001b[32m[I 2022-10-31 21:58:22,503]\u001b[0m Trial 5 finished with value: 0.802511695322527 and parameters: {'l2_leaf_reg': 0.09119042569787779, 'learning_rate': 0.3613056101981001, 'colsample_bylevel': 0.052683884354717075, 'depth': 1, 'boosting_type': 'Ordered', 'bootstrap_type': 'MVS'}. Best is trial 1 with value: 0.8289399123985141.\u001b[0m\n",
      "\u001b[32m[I 2022-10-31 21:58:27,819]\u001b[0m Trial 6 finished with value: 0.8283038839739639 and parameters: {'l2_leaf_reg': 0.0058943020007605155, 'learning_rate': 0.3918949864107803, 'colsample_bylevel': 0.024329028170596394, 'depth': 12, 'boosting_type': 'Ordered', 'bootstrap_type': 'Bernoulli', 'subsample': 0.8336777062214745}. Best is trial 1 with value: 0.8289399123985141.\u001b[0m\n",
      "\u001b[32m[I 2022-10-31 21:58:33,350]\u001b[0m Trial 7 finished with value: 0.7956041206511681 and parameters: {'l2_leaf_reg': 0.00529201526478942, 'learning_rate': 0.060558270949923595, 'colsample_bylevel': 0.04218481839238234, 'depth': 6, 'boosting_type': 'Ordered', 'bootstrap_type': 'MVS'}. Best is trial 1 with value: 0.8289399123985141.\u001b[0m\n",
      "\u001b[32m[I 2022-10-31 21:58:35,060]\u001b[0m Trial 8 finished with value: 0.7949704521249509 and parameters: {'l2_leaf_reg': 0.001183269253296058, 'learning_rate': 0.15798597692844363, 'colsample_bylevel': 0.020617000449372112, 'depth': 8, 'boosting_type': 'Plain', 'bootstrap_type': 'MVS'}. Best is trial 1 with value: 0.8289399123985141.\u001b[0m\n",
      "\u001b[32m[I 2022-10-31 21:58:37,128]\u001b[0m Trial 9 finished with value: 0.8333317503654764 and parameters: {'l2_leaf_reg': 0.00705446346481302, 'learning_rate': 0.19108994002314075, 'colsample_bylevel': 0.08637832219767867, 'depth': 10, 'boosting_type': 'Plain', 'bootstrap_type': 'MVS'}. Best is trial 9 with value: 0.8333317503654764.\u001b[0m\n",
      "\u001b[32m[I 2022-10-31 21:58:39,035]\u001b[0m Trial 10 finished with value: 0.8069166022900284 and parameters: {'l2_leaf_reg': 0.0856213856984898, 'learning_rate': 0.020316409735093216, 'colsample_bylevel': 0.07654749023360229, 'depth': 10, 'boosting_type': 'Plain', 'bootstrap_type': 'MVS'}. Best is trial 9 with value: 0.8333317503654764.\u001b[0m\n",
      "\u001b[32m[I 2022-10-31 21:58:40,893]\u001b[0m Trial 11 finished with value: 0.8396270165012196 and parameters: {'l2_leaf_reg': 0.02012813404576191, 'learning_rate': 0.23602746866553742, 'colsample_bylevel': 0.09979210033075715, 'depth': 3, 'boosting_type': 'Plain', 'bootstrap_type': 'MVS'}. Best is trial 11 with value: 0.8396270165012196.\u001b[0m\n",
      "\u001b[32m[I 2022-10-31 21:58:42,531]\u001b[0m Trial 12 finished with value: 0.838992159069865 and parameters: {'l2_leaf_reg': 0.03250905810430064, 'learning_rate': 0.2598968862389266, 'colsample_bylevel': 0.07063355245432973, 'depth': 4, 'boosting_type': 'Plain', 'bootstrap_type': 'MVS'}. Best is trial 11 with value: 0.8396270165012196.\u001b[0m\n",
      "\u001b[32m[I 2022-10-31 21:58:44,327]\u001b[0m Trial 13 finished with value: 0.8364811645520612 and parameters: {'l2_leaf_reg': 0.030278721634497234, 'learning_rate': 0.2836711193712685, 'colsample_bylevel': 0.07262922615016704, 'depth': 4, 'boosting_type': 'Plain', 'bootstrap_type': 'MVS'}. Best is trial 11 with value: 0.8396270165012196.\u001b[0m\n",
      "\u001b[32m[I 2022-10-31 21:58:46,111]\u001b[0m Trial 14 finished with value: 0.8327075841243863 and parameters: {'l2_leaf_reg': 0.3082356811192284, 'learning_rate': 0.2651119177028879, 'colsample_bylevel': 0.06745224848833711, 'depth': 2, 'boosting_type': 'Plain', 'bootstrap_type': 'MVS'}. Best is trial 11 with value: 0.8396270165012196.\u001b[0m\n",
      "\u001b[32m[I 2022-10-31 21:58:47,883]\u001b[0m Trial 15 finished with value: 0.8239013369047954 and parameters: {'l2_leaf_reg': 0.021492377535444813, 'learning_rate': 0.10434689767735503, 'colsample_bylevel': 0.09977975359010027, 'depth': 4, 'boosting_type': 'Plain', 'bootstrap_type': 'Bayesian', 'bagging_temperature': 9.60902755065411}. Best is trial 11 with value: 0.8396270165012196.\u001b[0m\n",
      "\u001b[32m[I 2022-10-31 21:58:49,586]\u001b[0m Trial 16 finished with value: 0.827047179897983 and parameters: {'l2_leaf_reg': 0.25047360913158906, 'learning_rate': 0.30362791081564733, 'colsample_bylevel': 0.057587518614458454, 'depth': 2, 'boosting_type': 'Plain', 'bootstrap_type': 'MVS'}. Best is trial 11 with value: 0.8396270165012196.\u001b[0m\n",
      "\u001b[32m[I 2022-10-31 21:58:51,314]\u001b[0m Trial 17 finished with value: 0.8358474915478585 and parameters: {'l2_leaf_reg': 0.062661300084655, 'learning_rate': 0.22210779646942522, 'colsample_bylevel': 0.0619024562239387, 'depth': 5, 'boosting_type': 'Plain', 'bootstrap_type': 'MVS'}. Best is trial 11 with value: 0.8396270165012196.\u001b[0m\n",
      "\u001b[32m[I 2022-10-31 21:58:53,088]\u001b[0m Trial 18 finished with value: 0.7949680698366907 and parameters: {'l2_leaf_reg': 0.31007216847006697, 'learning_rate': 0.10590650172481872, 'colsample_bylevel': 0.04021978680108103, 'depth': 1, 'boosting_type': 'Plain', 'bootstrap_type': 'Bernoulli', 'subsample': 0.1560506443495528}. Best is trial 11 with value: 0.8396270165012196.\u001b[0m\n",
      "\u001b[32m[I 2022-10-31 21:58:55,182]\u001b[0m Trial 19 finished with value: 0.8352126296385185 and parameters: {'l2_leaf_reg': 0.012808925217200211, 'learning_rate': 0.31450778203547214, 'colsample_bylevel': 0.07724897244879442, 'depth': 3, 'boosting_type': 'Plain', 'bootstrap_type': 'Bayesian', 'bagging_temperature': 0.8730163821839261}. Best is trial 11 with value: 0.8396270165012196.\u001b[0m\n",
      "\u001b[32m[I 2022-10-31 21:58:57,400]\u001b[0m Trial 20 finished with value: 0.8377414084755412 and parameters: {'l2_leaf_reg': 0.15711834285864754, 'learning_rate': 0.24005525375494732, 'colsample_bylevel': 0.09966151026198848, 'depth': 6, 'boosting_type': 'Plain', 'bootstrap_type': 'MVS'}. Best is trial 11 with value: 0.8396270165012196.\u001b[0m\n",
      "\u001b[32m[I 2022-10-31 21:58:59,407]\u001b[0m Trial 21 finished with value: 0.8389969012564578 and parameters: {'l2_leaf_reg': 0.14792596404459118, 'learning_rate': 0.2178924529809272, 'colsample_bylevel': 0.09640412213840813, 'depth': 6, 'boosting_type': 'Plain', 'bootstrap_type': 'MVS'}. Best is trial 11 with value: 0.8396270165012196.\u001b[0m\n",
      "\u001b[32m[I 2022-10-31 21:59:01,338]\u001b[0m Trial 22 finished with value: 0.8377390306652668 and parameters: {'l2_leaf_reg': 0.714681193990367, 'learning_rate': 0.13788409417369973, 'colsample_bylevel': 0.08362889624317772, 'depth': 7, 'boosting_type': 'Plain', 'bootstrap_type': 'MVS'}. Best is trial 11 with value: 0.8396270165012196.\u001b[0m\n",
      "\u001b[32m[I 2022-10-31 21:59:03,300]\u001b[0m Trial 23 finished with value: 0.8396246476469161 and parameters: {'l2_leaf_reg': 0.02669429196786541, 'learning_rate': 0.21510608214664173, 'colsample_bylevel': 0.0928206834838254, 'depth': 5, 'boosting_type': 'Plain', 'bootstrap_type': 'MVS'}. Best is trial 11 with value: 0.8396270165012196.\u001b[0m\n",
      "\u001b[32m[I 2022-10-31 21:59:05,082]\u001b[0m Trial 24 finished with value: 0.8371089198984903 and parameters: {'l2_leaf_reg': 0.050166339912834486, 'learning_rate': 0.20893063269054754, 'colsample_bylevel': 0.09235958485493292, 'depth': 5, 'boosting_type': 'Plain', 'bootstrap_type': 'MVS'}. Best is trial 11 with value: 0.8396270165012196.\u001b[0m\n",
      "\u001b[32m[I 2022-10-31 21:59:07,176]\u001b[0m Trial 25 finished with value: 0.8377390351432522 and parameters: {'l2_leaf_reg': 0.14500079213608605, 'learning_rate': 0.15146740109686047, 'colsample_bylevel': 0.09585433732551865, 'depth': 8, 'boosting_type': 'Plain', 'bootstrap_type': 'MVS'}. Best is trial 11 with value: 0.8396270165012196.\u001b[0m\n",
      "\u001b[32m[I 2022-10-31 21:59:13,197]\u001b[0m Trial 26 finished with value: 0.8364752379383167 and parameters: {'l2_leaf_reg': 0.01419207208902136, 'learning_rate': 0.32847325380922654, 'colsample_bylevel': 0.08287042433524118, 'depth': 3, 'boosting_type': 'Ordered', 'bootstrap_type': 'MVS'}. Best is trial 11 with value: 0.8396270165012196.\u001b[0m\n",
      "\u001b[32m[I 2022-10-31 21:59:15,023]\u001b[0m Trial 27 finished with value: 0.794969258741828 and parameters: {'l2_leaf_reg': 0.5179859513140092, 'learning_rate': 0.22921587398881366, 'colsample_bylevel': 0.01014272054974899, 'depth': 6, 'boosting_type': 'Plain', 'bootstrap_type': 'Bernoulli', 'subsample': 0.2072507390371192}. Best is trial 11 with value: 0.8396270165012196.\u001b[0m\n",
      "\u001b[32m[I 2022-10-31 21:59:17,105]\u001b[0m Trial 28 finished with value: 0.8182457106888684 and parameters: {'l2_leaf_reg': 0.03554569562653352, 'learning_rate': 0.09130506328385289, 'colsample_bylevel': 0.08069277962459966, 'depth': 5, 'boosting_type': 'Plain', 'bootstrap_type': 'Bayesian', 'bagging_temperature': 8.777610328365549}. Best is trial 11 with value: 0.8396270165012196.\u001b[0m\n",
      "\u001b[32m[I 2022-10-31 21:59:19,251]\u001b[0m Trial 29 finished with value: 0.8352268696322529 and parameters: {'l2_leaf_reg': 0.0025435276022220585, 'learning_rate': 0.3908122795222584, 'colsample_bylevel': 0.0939104114945767, 'depth': 8, 'boosting_type': 'Plain', 'bootstrap_type': 'MVS'}. Best is trial 11 with value: 0.8396270165012196.\u001b[0m\n",
      "\u001b[32m[I 2022-10-31 21:59:21,069]\u001b[0m Trial 30 finished with value: 0.8371041642779412 and parameters: {'l2_leaf_reg': 0.12584601287668856, 'learning_rate': 0.18243913555297586, 'colsample_bylevel': 0.08954571447147178, 'depth': 2, 'boosting_type': 'Plain', 'bootstrap_type': 'Bernoulli', 'subsample': 0.4015042699633219}. Best is trial 11 with value: 0.8396270165012196.\u001b[0m\n",
      "\u001b[32m[I 2022-10-31 21:59:23,024]\u001b[0m Trial 31 finished with value: 0.8377414084755412 and parameters: {'l2_leaf_reg': 0.022532368656213893, 'learning_rate': 0.25220970272253834, 'colsample_bylevel': 0.06924648990065525, 'depth': 4, 'boosting_type': 'Plain', 'bootstrap_type': 'MVS'}. Best is trial 11 with value: 0.8396270165012196.\u001b[0m\n",
      "\u001b[32m[I 2022-10-31 21:59:24,908]\u001b[0m Trial 32 finished with value: 0.8358463071207067 and parameters: {'l2_leaf_reg': 0.009997364023261714, 'learning_rate': 0.2778795904272058, 'colsample_bylevel': 0.09908554996450403, 'depth': 4, 'boosting_type': 'Plain', 'bootstrap_type': 'MVS'}. Best is trial 11 with value: 0.8396270165012196.\u001b[0m\n",
      "\u001b[32m[I 2022-10-31 21:59:26,901]\u001b[0m Trial 33 finished with value: 0.8339690035190473 and parameters: {'l2_leaf_reg': 0.04822556222681911, 'learning_rate': 0.20683787429041267, 'colsample_bylevel': 0.0870021005977095, 'depth': 7, 'boosting_type': 'Plain', 'bootstrap_type': 'MVS'}. Best is trial 11 with value: 0.8396270165012196.\u001b[0m\n",
      "\u001b[32m[I 2022-10-31 21:59:29,046]\u001b[0m Trial 34 finished with value: 0.840251205132237 and parameters: {'l2_leaf_reg': 0.0231903818562609, 'learning_rate': 0.3358442680133906, 'colsample_bylevel': 0.0938905949631407, 'depth': 3, 'boosting_type': 'Plain', 'bootstrap_type': 'MVS'}. Best is trial 34 with value: 0.840251205132237.\u001b[0m\n",
      "\u001b[32m[I 2022-10-31 21:59:31,011]\u001b[0m Trial 35 finished with value: 0.8390028323481878 and parameters: {'l2_leaf_reg': 0.023429223217696228, 'learning_rate': 0.3530093458993494, 'colsample_bylevel': 0.09108291360395784, 'depth': 3, 'boosting_type': 'Plain', 'bootstrap_type': 'MVS'}. Best is trial 34 with value: 0.840251205132237.\u001b[0m\n",
      "\u001b[32m[I 2022-10-31 21:59:36,822]\u001b[0m Trial 36 finished with value: 0.8345979298586719 and parameters: {'l2_leaf_reg': 0.02324532158720205, 'learning_rate': 0.4241517412307294, 'colsample_bylevel': 0.09178421727402186, 'depth': 3, 'boosting_type': 'Ordered', 'bootstrap_type': 'MVS'}. Best is trial 34 with value: 0.840251205132237.\u001b[0m\n",
      "\u001b[32m[I 2022-10-31 21:59:38,738]\u001b[0m Trial 37 finished with value: 0.8377319151463851 and parameters: {'l2_leaf_reg': 0.0035217930442587556, 'learning_rate': 0.33137214763726736, 'colsample_bylevel': 0.08006286148476342, 'depth': 3, 'boosting_type': 'Plain', 'bootstrap_type': 'Bayesian', 'bagging_temperature': 0.5535033782900465}. Best is trial 34 with value: 0.840251205132237.\u001b[0m\n",
      "\u001b[32m[I 2022-10-31 21:59:44,813]\u001b[0m Trial 38 finished with value: 0.8346003031909609 and parameters: {'l2_leaf_reg': 0.010242707802938305, 'learning_rate': 0.3674744317874459, 'colsample_bylevel': 0.0877847491734574, 'depth': 2, 'boosting_type': 'Ordered', 'bootstrap_type': 'Bernoulli', 'subsample': 0.44970597011693464}. Best is trial 34 with value: 0.840251205132237.\u001b[0m\n",
      "\u001b[32m[I 2022-10-31 21:59:46,692]\u001b[0m Trial 39 finished with value: 0.8062864780892957 and parameters: {'l2_leaf_reg': 0.017597588761999565, 'learning_rate': 0.42957490586451996, 'colsample_bylevel': 0.03202416767784409, 'depth': 1, 'boosting_type': 'Plain', 'bootstrap_type': 'MVS'}. Best is trial 34 with value: 0.840251205132237.\u001b[0m\n",
      "\u001b[32m[I 2022-10-31 21:59:52,869]\u001b[0m Trial 40 finished with value: 0.8364823489792131 and parameters: {'l2_leaf_reg': 0.07859232338803733, 'learning_rate': 0.4984404445076, 'colsample_bylevel': 0.07526371079713504, 'depth': 2, 'boosting_type': 'Ordered', 'bootstrap_type': 'MVS'}. Best is trial 34 with value: 0.840251205132237.\u001b[0m\n",
      "\u001b[32m[I 2022-10-31 21:59:54,957]\u001b[0m Trial 41 finished with value: 0.835849869358133 and parameters: {'l2_leaf_reg': 0.03946511825081143, 'learning_rate': 0.2967756825139355, 'colsample_bylevel': 0.09600391297790613, 'depth': 5, 'boosting_type': 'Plain', 'bootstrap_type': 'MVS'}. Best is trial 34 with value: 0.840251205132237.\u001b[0m\n",
      "\u001b[32m[I 2022-10-31 21:59:57,219]\u001b[0m Trial 42 finished with value: 0.8383655926285732 and parameters: {'l2_leaf_reg': 0.007343219938041538, 'learning_rate': 0.3464960412596093, 'colsample_bylevel': 0.09521183084872345, 'depth': 6, 'boosting_type': 'Plain', 'bootstrap_type': 'MVS'}. Best is trial 34 with value: 0.840251205132237.\u001b[0m\n",
      "\u001b[32m[I 2022-10-31 21:59:59,286]\u001b[0m Trial 43 finished with value: 0.8352197406794147 and parameters: {'l2_leaf_reg': 0.05932623915237706, 'learning_rate': 0.38328777739306374, 'colsample_bylevel': 0.08509935611161891, 'depth': 3, 'boosting_type': 'Plain', 'bootstrap_type': 'MVS'}. Best is trial 34 with value: 0.840251205132237.\u001b[0m\n",
      "\u001b[32m[I 2022-10-31 22:00:01,314]\u001b[0m Trial 44 finished with value: 0.837735472905826 and parameters: {'l2_leaf_reg': 0.015940614677632057, 'learning_rate': 0.16830726321464906, 'colsample_bylevel': 0.09047537309458935, 'depth': 5, 'boosting_type': 'Plain', 'bootstrap_type': 'MVS'}. Best is trial 34 with value: 0.840251205132237.\u001b[0m\n",
      "\u001b[32m[I 2022-10-31 22:00:03,296]\u001b[0m Trial 45 finished with value: 0.8270531065117274 and parameters: {'l2_leaf_reg': 0.026530204242489714, 'learning_rate': 0.4316938123431614, 'colsample_bylevel': 0.04898139638865276, 'depth': 4, 'boosting_type': 'Plain', 'bootstrap_type': 'MVS'}. Best is trial 34 with value: 0.840251205132237.\u001b[0m\n",
      "\u001b[32m[I 2022-10-31 22:00:05,410]\u001b[0m Trial 46 finished with value: 0.836478800175743 and parameters: {'l2_leaf_reg': 0.10959861630507967, 'learning_rate': 0.199071951545077, 'colsample_bylevel': 0.09668937539127585, 'depth': 7, 'boosting_type': 'Plain', 'bootstrap_type': 'MVS'}. Best is trial 34 with value: 0.840251205132237.\u001b[0m\n",
      "\u001b[32m[I 2022-10-31 22:00:07,262]\u001b[0m Trial 47 finished with value: 0.8176120152947384 and parameters: {'l2_leaf_reg': 0.009185595968862568, 'learning_rate': 0.27489737222775784, 'colsample_bylevel': 0.09106982077560673, 'depth': 1, 'boosting_type': 'Plain', 'bootstrap_type': 'MVS'}. Best is trial 34 with value: 0.840251205132237.\u001b[0m\n",
      "\u001b[32m[I 2022-10-31 22:00:12,940]\u001b[0m Trial 48 finished with value: 0.8314414046311908 and parameters: {'l2_leaf_reg': 0.0036356266391045313, 'learning_rate': 0.24905943261597002, 'colsample_bylevel': 0.08532254775175664, 'depth': 9, 'boosting_type': 'Ordered', 'bootstrap_type': 'Bayesian', 'bagging_temperature': 6.060908682802394}. Best is trial 34 with value: 0.840251205132237.\u001b[0m\n",
      "\u001b[32m[I 2022-10-31 22:00:14,924]\u001b[0m Trial 49 finished with value: 0.8383655881505877 and parameters: {'l2_leaf_reg': 1.6934888783778699, 'learning_rate': 0.13645098311919165, 'colsample_bylevel': 0.09969982460227571, 'depth': 4, 'boosting_type': 'Plain', 'bootstrap_type': 'MVS'}. Best is trial 34 with value: 0.840251205132237.\u001b[0m\n",
      "\u001b[32m[I 2022-10-31 22:00:16,686]\u001b[0m Trial 50 finished with value: 0.8383632148182988 and parameters: {'l2_leaf_reg': 0.18385315665221608, 'learning_rate': 0.3554853347611917, 'colsample_bylevel': 0.0648160315312526, 'depth': 2, 'boosting_type': 'Plain', 'bootstrap_type': 'Bernoulli', 'subsample': 0.9798889754361424}. Best is trial 34 with value: 0.840251205132237.\u001b[0m\n",
      "\u001b[32m[I 2022-10-31 22:00:18,564]\u001b[0m Trial 51 finished with value: 0.8371148465122348 and parameters: {'l2_leaf_reg': 0.033944454731566896, 'learning_rate': 0.2589793908801066, 'colsample_bylevel': 0.07340553663744176, 'depth': 3, 'boosting_type': 'Plain', 'bootstrap_type': 'MVS'}. Best is trial 34 with value: 0.840251205132237.\u001b[0m\n",
      "\u001b[32m[I 2022-10-31 22:00:20,504]\u001b[0m Trial 52 finished with value: 0.8364752334603311 and parameters: {'l2_leaf_reg': 0.07231219834189097, 'learning_rate': 0.22395017514170856, 'colsample_bylevel': 0.07966643872186213, 'depth': 4, 'boosting_type': 'Plain', 'bootstrap_type': 'MVS'}. Best is trial 34 with value: 0.840251205132237.\u001b[0m\n",
      "\u001b[32m[I 2022-10-31 22:00:22,409]\u001b[0m Trial 53 finished with value: 0.8383632237742696 and parameters: {'l2_leaf_reg': 0.018867537213456697, 'learning_rate': 0.32515393434975925, 'colsample_bylevel': 0.09356040485242996, 'depth': 6, 'boosting_type': 'Plain', 'bootstrap_type': 'MVS'}. Best is trial 34 with value: 0.840251205132237.\u001b[0m\n",
      "\u001b[32m[I 2022-10-31 22:00:24,337]\u001b[0m Trial 54 finished with value: 0.835223302916841 and parameters: {'l2_leaf_reg': 0.029143160947472338, 'learning_rate': 0.2948189194235024, 'colsample_bylevel': 0.08852372045267608, 'depth': 3, 'boosting_type': 'Plain', 'bootstrap_type': 'MVS'}. Best is trial 34 with value: 0.840251205132237.\u001b[0m\n",
      "\u001b[32m[I 2022-10-31 22:00:26,239]\u001b[0m Trial 55 finished with value: 0.8402583251291044 and parameters: {'l2_leaf_reg': 0.04869523510375698, 'learning_rate': 0.17446300872021633, 'colsample_bylevel': 0.05865228437077636, 'depth': 5, 'boosting_type': 'Plain', 'bootstrap_type': 'MVS'}. Best is trial 55 with value: 0.8402583251291044.\u001b[0m\n",
      "\u001b[32m[I 2022-10-31 22:00:28,136]\u001b[0m Trial 56 finished with value: 0.8282860593528761 and parameters: {'l2_leaf_reg': 0.04320619424062025, 'learning_rate': 0.17647030362926808, 'colsample_bylevel': 0.05014841798808155, 'depth': 5, 'boosting_type': 'Plain', 'bootstrap_type': 'MVS'}. Best is trial 55 with value: 0.8402583251291044.\u001b[0m\n",
      "\u001b[32m[I 2022-10-31 22:00:30,061]\u001b[0m Trial 57 finished with value: 0.8383608504419806 and parameters: {'l2_leaf_reg': 0.012024150585196592, 'learning_rate': 0.1529174587342027, 'colsample_bylevel': 0.058056052016820105, 'depth': 6, 'boosting_type': 'Plain', 'bootstrap_type': 'MVS'}. Best is trial 55 with value: 0.8402583251291044.\u001b[0m\n",
      "\u001b[32m[I 2022-10-31 22:00:31,832]\u001b[0m Trial 58 finished with value: 0.809452527991831 and parameters: {'l2_leaf_reg': 0.058873125249307476, 'learning_rate': 0.2341558428234956, 'colsample_bylevel': 0.03376772621028158, 'depth': 5, 'boosting_type': 'Plain', 'bootstrap_type': 'MVS'}. Best is trial 55 with value: 0.8402583251291044.\u001b[0m\n",
      "\u001b[32m[I 2022-10-31 22:00:33,810]\u001b[0m Trial 59 finished with value: 0.8295652944126543 and parameters: {'l2_leaf_reg': 0.2101566431253717, 'learning_rate': 0.13018201195249757, 'colsample_bylevel': 0.09736915977409577, 'depth': 4, 'boosting_type': 'Plain', 'bootstrap_type': 'Bayesian', 'bagging_temperature': 3.2311809004979297}. Best is trial 55 with value: 0.8402583251291044.\u001b[0m\n",
      "\u001b[32m[I 2022-10-31 22:00:39,850]\u001b[0m Trial 60 finished with value: 0.8383715192423177 and parameters: {'l2_leaf_reg': 0.09696519416256862, 'learning_rate': 0.19221064172503904, 'colsample_bylevel': 0.09390365585184475, 'depth': 12, 'boosting_type': 'Ordered', 'bootstrap_type': 'MVS'}. Best is trial 55 with value: 0.8402583251291044.\u001b[0m\n",
      "\u001b[32m[I 2022-10-31 22:00:41,862]\u001b[0m Trial 61 finished with value: 0.8339606990950283 and parameters: {'l2_leaf_reg': 0.032288524517316314, 'learning_rate': 0.21245085451835063, 'colsample_bylevel': 0.07061147474774848, 'depth': 5, 'boosting_type': 'Plain', 'bootstrap_type': 'MVS'}. Best is trial 55 with value: 0.8402583251291044.\u001b[0m\n",
      "\u001b[32m[I 2022-10-31 22:00:43,878]\u001b[0m Trial 62 finished with value: 0.8415031356757273 and parameters: {'l2_leaf_reg': 0.01762052909719668, 'learning_rate': 0.31194403178074587, 'colsample_bylevel': 0.06273091164357764, 'depth': 4, 'boosting_type': 'Plain', 'bootstrap_type': 'MVS'}. Best is trial 62 with value: 0.8415031356757273.\u001b[0m\n",
      "\u001b[32m[I 2022-10-31 22:00:45,952]\u001b[0m Trial 63 finished with value: 0.8371077265153678 and parameters: {'l2_leaf_reg': 0.02003446885665442, 'learning_rate': 0.34214512490150806, 'colsample_bylevel': 0.05511208014989025, 'depth': 4, 'boosting_type': 'Plain', 'bootstrap_type': 'MVS'}. Best is trial 62 with value: 0.8415031356757273.\u001b[0m\n",
      "\u001b[32m[I 2022-10-31 22:00:48,004]\u001b[0m Trial 64 finished with value: 0.8364811690300465 and parameters: {'l2_leaf_reg': 0.014074771538820424, 'learning_rate': 0.31171694130151184, 'colsample_bylevel': 0.04260526278140908, 'depth': 6, 'boosting_type': 'Plain', 'bootstrap_type': 'MVS'}. Best is trial 62 with value: 0.8415031356757273.\u001b[0m\n",
      "\u001b[32m[I 2022-10-31 22:00:49,975]\u001b[0m Trial 65 finished with value: 0.8276571195792951 and parameters: {'l2_leaf_reg': 0.0051602708696597225, 'learning_rate': 0.36748053765687094, 'colsample_bylevel': 0.06311886513322058, 'depth': 4, 'boosting_type': 'Plain', 'bootstrap_type': 'MVS'}. Best is trial 62 with value: 0.8415031356757273.\u001b[0m\n",
      "\u001b[32m[I 2022-10-31 22:00:51,843]\u001b[0m Trial 66 finished with value: 0.837737846238115 and parameters: {'l2_leaf_reg': 0.5402773669515368, 'learning_rate': 0.40846425967194505, 'colsample_bylevel': 0.05850090386038755, 'depth': 3, 'boosting_type': 'Plain', 'bootstrap_type': 'Bernoulli', 'subsample': 0.29858888776388626}. Best is trial 62 with value: 0.8415031356757273.\u001b[0m\n",
      "\u001b[32m[I 2022-10-31 22:00:53,630]\u001b[0m Trial 67 finished with value: 0.8151033941092236 and parameters: {'l2_leaf_reg': 0.02577282385767584, 'learning_rate': 0.2781292723866458, 'colsample_bylevel': 0.04609097092789267, 'depth': 2, 'boosting_type': 'Plain', 'bootstrap_type': 'MVS'}. Best is trial 62 with value: 0.8415031356757273.\u001b[0m\n",
      "\u001b[32m[I 2022-10-31 22:00:55,664]\u001b[0m Trial 68 finished with value: 0.8333305748942955 and parameters: {'l2_leaf_reg': 0.00683040040677593, 'learning_rate': 0.24474937774106553, 'colsample_bylevel': 0.08941902570962916, 'depth': 3, 'boosting_type': 'Plain', 'bootstrap_type': 'MVS'}. Best is trial 62 with value: 0.8415031356757273.\u001b[0m\n",
      "\u001b[32m[I 2022-10-31 22:00:57,698]\u001b[0m Trial 69 finished with value: 0.8352185562522628 and parameters: {'l2_leaf_reg': 0.04837385982143988, 'learning_rate': 0.2663851233002958, 'colsample_bylevel': 0.08197332361847909, 'depth': 5, 'boosting_type': 'Plain', 'bootstrap_type': 'MVS'}. Best is trial 62 with value: 0.8415031356757273.\u001b[0m\n",
      "\u001b[32m[I 2022-10-31 22:00:59,791]\u001b[0m Trial 70 finished with value: 0.8264170601752356 and parameters: {'l2_leaf_reg': 0.011826006561635028, 'learning_rate': 0.21783704784778968, 'colsample_bylevel': 0.09812913079329794, 'depth': 7, 'boosting_type': 'Plain', 'bootstrap_type': 'Bayesian', 'bagging_temperature': 8.207271782595127}. Best is trial 62 with value: 0.8415031356757273.\u001b[0m\n",
      "\u001b[32m[I 2022-10-31 22:01:01,735]\u001b[0m Trial 71 finished with value: 0.8314497000992388 and parameters: {'l2_leaf_reg': 1.0574171323825767, 'learning_rate': 0.2965357726953976, 'colsample_bylevel': 0.05361818228548168, 'depth': 4, 'boosting_type': 'Plain', 'bootstrap_type': 'MVS'}. Best is trial 62 with value: 0.8415031356757273.\u001b[0m\n",
      "\u001b[32m[I 2022-10-31 22:01:03,699]\u001b[0m Trial 72 finished with value: 0.8289304101133869 and parameters: {'l2_leaf_reg': 0.016630655718492898, 'learning_rate': 0.3160394833478157, 'colsample_bylevel': 0.06135104256946304, 'depth': 3, 'boosting_type': 'Plain', 'bootstrap_type': 'MVS'}. Best is trial 62 with value: 0.8415031356757273.\u001b[0m\n",
      "\u001b[32m[I 2022-10-31 22:01:05,598]\u001b[0m Trial 73 finished with value: 0.8364823534571985 and parameters: {'l2_leaf_reg': 0.03824308858965208, 'learning_rate': 0.23611071227298316, 'colsample_bylevel': 0.06598823305121262, 'depth': 5, 'boosting_type': 'Plain', 'bootstrap_type': 'MVS'}. Best is trial 62 with value: 0.8415031356757273.\u001b[0m\n",
      "\u001b[32m[I 2022-10-31 22:01:07,715]\u001b[0m Trial 74 finished with value: 0.8358486849309812 and parameters: {'l2_leaf_reg': 0.023031416906819733, 'learning_rate': 0.16901591318263504, 'colsample_bylevel': 0.07752021506241454, 'depth': 4, 'boosting_type': 'Plain', 'bootstrap_type': 'MVS'}. Best is trial 62 with value: 0.8415031356757273.\u001b[0m\n",
      "\u001b[32m[I 2022-10-31 22:01:09,777]\u001b[0m Trial 75 finished with value: 0.8339511923319156 and parameters: {'l2_leaf_reg': 0.026888652898424084, 'learning_rate': 0.20136544392237996, 'colsample_bylevel': 0.06891923056957527, 'depth': 6, 'boosting_type': 'Plain', 'bootstrap_type': 'MVS'}. Best is trial 62 with value: 0.8415031356757273.\u001b[0m\n",
      "\u001b[32m[I 2022-10-31 22:01:15,717]\u001b[0m Trial 76 finished with value: 0.840251205132237 and parameters: {'l2_leaf_reg': 0.3266345048536265, 'learning_rate': 0.2899470506898936, 'colsample_bylevel': 0.08659905874483859, 'depth': 2, 'boosting_type': 'Ordered', 'bootstrap_type': 'MVS'}. Best is trial 62 with value: 0.8415031356757273.\u001b[0m\n",
      "\u001b[32m[I 2022-10-31 22:01:21,209]\u001b[0m Trial 77 finished with value: 0.8358534226395884 and parameters: {'l2_leaf_reg': 0.3465954528595896, 'learning_rate': 0.2873544011659479, 'colsample_bylevel': 0.09424405344928603, 'depth': 2, 'boosting_type': 'Ordered', 'bootstrap_type': 'MVS'}. Best is trial 62 with value: 0.8415031356757273.\u001b[0m\n",
      "\u001b[32m[I 2022-10-31 22:01:26,565]\u001b[0m Trial 78 finished with value: 0.8125852930285088 and parameters: {'l2_leaf_reg': 0.3592068810545185, 'learning_rate': 0.38003789722871695, 'colsample_bylevel': 0.09224667815217358, 'depth': 1, 'boosting_type': 'Ordered', 'bootstrap_type': 'Bernoulli', 'subsample': 0.6133348498946748}. Best is trial 62 with value: 0.8415031356757273.\u001b[0m\n",
      "\u001b[32m[I 2022-10-31 22:01:32,161]\u001b[0m Trial 79 finished with value: 0.8364681089854787 and parameters: {'l2_leaf_reg': 0.2531514739419673, 'learning_rate': 0.3427067607864719, 'colsample_bylevel': 0.08612803381292859, 'depth': 2, 'boosting_type': 'Ordered', 'bootstrap_type': 'MVS'}. Best is trial 62 with value: 0.8415031356757273.\u001b[0m\n",
      "\u001b[32m[I 2022-10-31 22:01:38,225]\u001b[0m Trial 80 finished with value: 0.813204743950919 and parameters: {'l2_leaf_reg': 0.9564230374489305, 'learning_rate': 0.031126475045002433, 'colsample_bylevel': 0.08430498091315826, 'depth': 3, 'boosting_type': 'Ordered', 'bootstrap_type': 'MVS'}. Best is trial 62 with value: 0.8415031356757273.\u001b[0m\n",
      "\u001b[32m[I 2022-10-31 22:01:44,110]\u001b[0m Trial 81 finished with value: 0.8327063862632782 and parameters: {'l2_leaf_reg': 0.01987588575034852, 'learning_rate': 0.26515171473718546, 'colsample_bylevel': 0.09685038932383311, 'depth': 11, 'boosting_type': 'Ordered', 'bootstrap_type': 'MVS'}. Best is trial 62 with value: 0.8415031356757273.\u001b[0m\n",
      "\u001b[32m[I 2022-10-31 22:01:45,983]\u001b[0m Trial 82 finished with value: 0.8301894696097151 and parameters: {'l2_leaf_reg': 0.030374347194809297, 'learning_rate': 0.3059062357259882, 'colsample_bylevel': 0.09986588944866959, 'depth': 4, 'boosting_type': 'Plain', 'bootstrap_type': 'MVS'}. Best is trial 62 with value: 0.8415031356757273.\u001b[0m\n",
      "\u001b[32m[I 2022-10-31 22:01:47,809]\u001b[0m Trial 83 finished with value: 0.8383632192962841 and parameters: {'l2_leaf_reg': 0.06527952446131531, 'learning_rate': 0.3253790482667381, 'colsample_bylevel': 0.06066382740395461, 'depth': 3, 'boosting_type': 'Plain', 'bootstrap_type': 'MVS'}. Best is trial 62 with value: 0.8415031356757273.\u001b[0m\n",
      "\u001b[32m[I 2022-10-31 22:01:49,749]\u001b[0m Trial 84 finished with value: 0.8352209295845521 and parameters: {'l2_leaf_reg': 0.04947567271664409, 'learning_rate': 0.255037001217382, 'colsample_bylevel': 0.08861614416290063, 'depth': 4, 'boosting_type': 'Plain', 'bootstrap_type': 'MVS'}. Best is trial 62 with value: 0.8415031356757273.\u001b[0m\n",
      "\u001b[32m[I 2022-10-31 22:01:55,703]\u001b[0m Trial 85 finished with value: 0.8402547673696633 and parameters: {'l2_leaf_reg': 0.015238986736371854, 'learning_rate': 0.18880121924924878, 'colsample_bylevel': 0.09141851586947454, 'depth': 5, 'boosting_type': 'Ordered', 'bootstrap_type': 'MVS'}. Best is trial 62 with value: 0.8415031356757273.\u001b[0m\n",
      "\u001b[32m[I 2022-10-31 22:02:01,682]\u001b[0m Trial 86 finished with value: 0.827674953156354 and parameters: {'l2_leaf_reg': 0.00978791721336652, 'learning_rate': 0.19369211555420315, 'colsample_bylevel': 0.09177872700691625, 'depth': 5, 'boosting_type': 'Ordered', 'bootstrap_type': 'MVS'}. Best is trial 62 with value: 0.8415031356757273.\u001b[0m\n",
      "\u001b[32m[I 2022-10-31 22:02:07,602]\u001b[0m Trial 87 finished with value: 0.8389957123513204 and parameters: {'l2_leaf_reg': 0.015169198243869314, 'learning_rate': 0.11902830278297913, 'colsample_bylevel': 0.08698478676896446, 'depth': 5, 'boosting_type': 'Ordered', 'bootstrap_type': 'MVS'}. Best is trial 62 with value: 0.8415031356757273.\u001b[0m\n",
      "\u001b[32m[I 2022-10-31 22:02:14,024]\u001b[0m Trial 88 finished with value: 0.8383715281982886 and parameters: {'l2_leaf_reg': 0.00824328031710225, 'learning_rate': 0.17961531471709838, 'colsample_bylevel': 0.09584119296653833, 'depth': 6, 'boosting_type': 'Ordered', 'bootstrap_type': 'MVS'}. Best is trial 62 with value: 0.8415031356757273.\u001b[0m\n",
      "\u001b[32m[I 2022-10-31 22:02:19,689]\u001b[0m Trial 89 finished with value: 0.7949550142701082 and parameters: {'l2_leaf_reg': 0.4554560121155191, 'learning_rate': 0.16178681924618687, 'colsample_bylevel': 0.09112910495525008, 'depth': 2, 'boosting_type': 'Ordered', 'bootstrap_type': 'Bayesian', 'bagging_temperature': 6.9413447409992415}. Best is trial 62 with value: 0.8415031356757273.\u001b[0m\n",
      "\u001b[32m[I 2022-10-31 22:02:25,733]\u001b[0m Trial 90 finished with value: 0.8364716712229049 and parameters: {'l2_leaf_reg': 0.01293946825828361, 'learning_rate': 0.22229983427191202, 'colsample_bylevel': 0.09525983618623561, 'depth': 5, 'boosting_type': 'Ordered', 'bootstrap_type': 'MVS'}. Best is trial 62 with value: 0.8415031356757273.\u001b[0m\n",
      "\u001b[32m[I 2022-10-31 22:02:31,589]\u001b[0m Trial 91 finished with value: 0.8389969057344433 and parameters: {'l2_leaf_reg': 0.015561558852641249, 'learning_rate': 0.08546687266779268, 'colsample_bylevel': 0.08643838426077233, 'depth': 6, 'boosting_type': 'Ordered', 'bootstrap_type': 'MVS'}. Best is trial 62 with value: 0.8415031356757273.\u001b[0m\n",
      "\u001b[32m[I 2022-10-31 22:02:37,040]\u001b[0m Trial 92 finished with value: 0.8402512096102225 and parameters: {'l2_leaf_reg': 0.022170824002305346, 'learning_rate': 0.0873966845376887, 'colsample_bylevel': 0.08364103710599237, 'depth': 7, 'boosting_type': 'Ordered', 'bootstrap_type': 'MVS'}. Best is trial 62 with value: 0.8415031356757273.\u001b[0m\n",
      "\u001b[32m[I 2022-10-31 22:02:42,135]\u001b[0m Trial 93 finished with value: 0.8396258275960823 and parameters: {'l2_leaf_reg': 0.01734048301152314, 'learning_rate': 0.0762546610182488, 'colsample_bylevel': 0.08245471231678547, 'depth': 8, 'boosting_type': 'Ordered', 'bootstrap_type': 'MVS'}. Best is trial 62 with value: 0.8415031356757273.\u001b[0m\n",
      "\u001b[32m[I 2022-10-31 22:02:47,302]\u001b[0m Trial 94 finished with value: 0.8352221184896894 and parameters: {'l2_leaf_reg': 0.022908442242041624, 'learning_rate': 0.060307740054800454, 'colsample_bylevel': 0.08278468171848559, 'depth': 8, 'boosting_type': 'Ordered', 'bootstrap_type': 'MVS'}. Best is trial 62 with value: 0.8415031356757273.\u001b[0m\n",
      "\u001b[32m[I 2022-10-31 22:02:52,401]\u001b[0m Trial 95 finished with value: 0.8327063996972345 and parameters: {'l2_leaf_reg': 0.039322170269782096, 'learning_rate': 0.055089749372498026, 'colsample_bylevel': 0.07837496857603235, 'depth': 9, 'boosting_type': 'Ordered', 'bootstrap_type': 'MVS'}. Best is trial 62 with value: 0.8415031356757273.\u001b[0m\n",
      "\u001b[32m[I 2022-10-31 22:02:57,812]\u001b[0m Trial 96 finished with value: 0.7962294981873227 and parameters: {'l2_leaf_reg': 0.01783215125226541, 'learning_rate': 0.008908235461783862, 'colsample_bylevel': 0.07385480657059222, 'depth': 8, 'boosting_type': 'Ordered', 'bootstrap_type': 'MVS'}. Best is trial 62 with value: 0.8415031356757273.\u001b[0m\n",
      "\u001b[32m[I 2022-10-31 22:03:03,031]\u001b[0m Trial 97 finished with value: 0.8301882896605487 and parameters: {'l2_leaf_reg': 0.011157247617769867, 'learning_rate': 0.04468620792630998, 'colsample_bylevel': 0.08132407658324016, 'depth': 7, 'boosting_type': 'Ordered', 'bootstrap_type': 'MVS'}. Best is trial 62 with value: 0.8415031356757273.\u001b[0m\n",
      "\u001b[32m[I 2022-10-31 22:03:08,701]\u001b[0m Trial 98 finished with value: 0.8364776157485913 and parameters: {'l2_leaf_reg': 0.025407313261995784, 'learning_rate': 0.10304243848906393, 'colsample_bylevel': 0.09273780414411244, 'depth': 8, 'boosting_type': 'Ordered', 'bootstrap_type': 'MVS'}. Best is trial 62 with value: 0.8415031356757273.\u001b[0m\n",
      "\u001b[32m[I 2022-10-31 22:03:14,213]\u001b[0m Trial 99 finished with value: 0.8358427404052948 and parameters: {'l2_leaf_reg': 0.020164195755257137, 'learning_rate': 0.08300175931505842, 'colsample_bylevel': 0.08998517706142313, 'depth': 7, 'boosting_type': 'Ordered', 'bootstrap_type': 'Bernoulli', 'subsample': 0.9959817202605092}. Best is trial 62 with value: 0.8415031356757273.\u001b[0m\n"
     ]
    }
   ],
   "source": [
    "import optuna\n",
    "from catboost import CatBoostClassifier, Pool, cv\n",
    "# optuna.logging.set_verbosity(optuna.logging.ERROR)\n",
    "\n",
    "\n",
    "def optuna_objective(trial):\n",
    "    hyperparameters = {\n",
    "        'l2_leaf_reg': trial.suggest_float('l2_leaf_reg', 0.001, 2, log=True),\n",
    "        'learning_rate': trial.suggest_float('learning_rate', 0.001, 0.5),\n",
    "        'colsample_bylevel': trial.suggest_float('colsample_bylevel', 0.01, 0.1),  # can't use with GPU training / CPU only\n",
    "        'depth': trial.suggest_int('depth', 1, 12),\n",
    "        'boosting_type': trial.suggest_categorical('boosting_type', ['Ordered', 'Plain']),\n",
    "        'bootstrap_type': trial.suggest_categorical(\n",
    "            'bootstrap_type', ['Bayesian', 'Bernoulli', 'MVS']\n",
    "        ),\n",
    "\n",
    "        # constant variables\n",
    "        'iterations': 500,\n",
    "        'verbose': False,\n",
    "        'eval_metric': 'Accuracy',\n",
    "        'use_best_model': True,\n",
    "        'objective': 'Logloss',\n",
    "        'loss_function': 'Logloss',\n",
    "        # 'task_type': 'GPU',  # can't use with cross-validation\n",
    "    }\n",
    "\n",
    "    if hyperparameters['bootstrap_type'] == 'Bayesian':\n",
    "        hyperparameters.update({'bagging_temperature': trial.suggest_float('bagging_temperature', 0, 10)})\n",
    "    elif hyperparameters['bootstrap_type'] == 'Bernoulli':\n",
    "        hyperparameters.update({'subsample': trial.suggest_float('subsample', 0.1, 1)})\n",
    "\n",
    "    model = CatBoostClassifier(**hyperparameters)\n",
    "    \n",
    "    cv_data = cv(\n",
    "        Pool(X, y, cat_features=categorical_features_indices),\n",
    "        model.get_params(),\n",
    "        logging_level='Silent',\n",
    "        plot=False,\n",
    "    )\n",
    "    \n",
    "    best_accuracy = np.max(cv_data['test-Accuracy-mean'])\n",
    "    \n",
    "    return best_accuracy  # as we use optuna's `maximize` direction\n",
    "\n",
    "\n",
    "study = optuna.create_study(direction='maximize')\n",
    "study.optimize(optuna_objective, n_trials=100, timeout=600)"
   ]
  },
  {
   "cell_type": "markdown",
   "metadata": {},
   "source": [
    "#### Getting optimization results"
   ]
  },
  {
   "cell_type": "code",
   "execution_count": 7,
   "metadata": {},
   "outputs": [
    {
     "name": "stdout",
     "output_type": "stream",
     "text": [
      "Number of Trials successfully finished:  100\n",
      "Best Trial's score: 0.8415031356757273\n",
      "Best hyperparameters: {'l2_leaf_reg': 0.01762052909719668, 'learning_rate': 0.31194403178074587, 'colsample_bylevel': 0.06273091164357764, 'depth': 4, 'boosting_type': 'Plain', 'bootstrap_type': 'MVS'}\n"
     ]
    }
   ],
   "source": [
    "print('Number of Trials successfully finished: ', len(study.trials))\n",
    "\n",
    "best_trial = study.best_trial\n",
    "print('Best Trial\\'s score:', best_trial.value)\n",
    "\n",
    "best_hyperparams = best_trial.params\n",
    "print('Best hyperparameters:', best_hyperparams)"
   ]
  },
  {
   "cell_type": "markdown",
   "metadata": {},
   "source": [
    "#### Cross-Validation using the best hyperparameters obtained from `Optuna`"
   ]
  },
  {
   "cell_type": "code",
   "execution_count": 8,
   "metadata": {},
   "outputs": [
    {
     "data": {
      "application/vnd.jupyter.widget-view+json": {
       "model_id": "9abdad353a7d4816b241771265f1fe57",
       "version_major": 2,
       "version_minor": 0
      },
      "text/plain": [
       "MetricVisualizer(layout=Layout(align_self='stretch', height='500px'))"
      ]
     },
     "metadata": {},
     "output_type": "display_data"
    },
    {
     "name": "stdout",
     "output_type": "stream",
     "text": [
      "Training on fold [0/3]\n",
      "\n",
      "bestTest = 0.8531073446\n",
      "bestIteration = 111\n",
      "\n",
      "Training on fold [1/3]\n",
      "\n",
      "bestTest = 0.8320754717\n",
      "bestIteration = 185\n",
      "\n",
      "Training on fold [2/3]\n",
      "\n",
      "bestTest = 0.8468809074\n",
      "bestIteration = 477\n",
      "\n"
     ]
    }
   ],
   "source": [
    "best_hyperparams.update({\n",
    "        'iterations': 500,\n",
    "        'verbose': False,\n",
    "        'eval_metric': 'Accuracy',\n",
    "        'use_best_model': True,\n",
    "        'loss_function': 'Logloss',\n",
    "})\n",
    "\n",
    "model = CatBoostClassifier(**best_hyperparams)\n",
    "\n",
    "cv_data = cv(\n",
    "        Pool(X, y, cat_features=categorical_features_indices),\n",
    "        model.get_params(),\n",
    "        plot=True,\n",
    ")"
   ]
  },
  {
   "cell_type": "markdown",
   "metadata": {},
   "source": [
    "#### Traininig the Model"
   ]
  },
  {
   "cell_type": "code",
   "execution_count": 9,
   "metadata": {},
   "outputs": [
    {
     "data": {
      "application/vnd.jupyter.widget-view+json": {
       "model_id": "2c729840023c42b5a7eb6eb9af470aef",
       "version_major": 2,
       "version_minor": 0
      },
      "text/plain": [
       "MetricVisualizer(layout=Layout(align_self='stretch', height='500px'))"
      ]
     },
     "metadata": {},
     "output_type": "display_data"
    },
    {
     "data": {
      "text/plain": [
       "<catboost.core.CatBoostClassifier at 0x1eeeb58b340>"
      ]
     },
     "execution_count": 9,
     "metadata": {},
     "output_type": "execute_result"
    }
   ],
   "source": [
    "# Creating data pools\n",
    "\n",
    "train_pool = Pool(X_train, y_train, cat_features=categorical_features_indices)\n",
    "validation_pool = Pool(X_validation, y_validation, cat_features=categorical_features_indices)\n",
    "\n",
    "model.fit(X=train_pool, eval_set=validation_pool, plot=True)"
   ]
  },
  {
   "cell_type": "markdown",
   "metadata": {},
   "source": [
    "#### Generating output for the competition"
   ]
  },
  {
   "cell_type": "code",
   "execution_count": 19,
   "metadata": {},
   "outputs": [],
   "source": [
    "comp_df = pd.read_csv('data/test.csv')\n",
    "customers_id = comp_df['Customer Id']\n",
    "comp_df.drop('Customer Id', axis=1, inplace=True)\n",
    "\n",
    "prediction_probs = model.predict_proba(comp_df)\n",
    "prediction = pd.DataFrame([pred[1] for pred in prediction_probs], columns=['prediction'])"
   ]
  },
  {
   "cell_type": "markdown",
   "metadata": {},
   "source": [
    "#### Concatinating the `Customer Id` dataframe and `prediction` dataframe"
   ]
  },
  {
   "cell_type": "code",
   "execution_count": 20,
   "metadata": {},
   "outputs": [
    {
     "data": {
      "text/html": [
       "<div>\n",
       "<style scoped>\n",
       "    .dataframe tbody tr th:only-of-type {\n",
       "        vertical-align: middle;\n",
       "    }\n",
       "\n",
       "    .dataframe tbody tr th {\n",
       "        vertical-align: top;\n",
       "    }\n",
       "\n",
       "    .dataframe thead th {\n",
       "        text-align: right;\n",
       "    }\n",
       "</style>\n",
       "<table border=\"1\" class=\"dataframe\">\n",
       "  <thead>\n",
       "    <tr style=\"text-align: right;\">\n",
       "      <th></th>\n",
       "      <th>Customer Id</th>\n",
       "      <th>prediction</th>\n",
       "    </tr>\n",
       "  </thead>\n",
       "  <tbody>\n",
       "    <tr>\n",
       "      <th>0</th>\n",
       "      <td>Q5OK4L2Q5XNH</td>\n",
       "      <td>0.844227</td>\n",
       "    </tr>\n",
       "    <tr>\n",
       "      <th>1</th>\n",
       "      <td>CBHVMVE7TRP5</td>\n",
       "      <td>0.923276</td>\n",
       "    </tr>\n",
       "    <tr>\n",
       "      <th>2</th>\n",
       "      <td>9UGHQ91U4F0M</td>\n",
       "      <td>0.473026</td>\n",
       "    </tr>\n",
       "    <tr>\n",
       "      <th>3</th>\n",
       "      <td>3UWXWMZK4ZGL</td>\n",
       "      <td>0.905362</td>\n",
       "    </tr>\n",
       "    <tr>\n",
       "      <th>4</th>\n",
       "      <td>5CGEMLMBOPES</td>\n",
       "      <td>0.163574</td>\n",
       "    </tr>\n",
       "  </tbody>\n",
       "</table>\n",
       "</div>"
      ],
      "text/plain": [
       "    Customer Id  prediction\n",
       "0  Q5OK4L2Q5XNH    0.844227\n",
       "1  CBHVMVE7TRP5    0.923276\n",
       "2  9UGHQ91U4F0M    0.473026\n",
       "3  3UWXWMZK4ZGL    0.905362\n",
       "4  5CGEMLMBOPES    0.163574"
      ]
     },
     "execution_count": 20,
     "metadata": {},
     "output_type": "execute_result"
    }
   ],
   "source": [
    "customers_id.index = prediction.index  # as they are the same in size\n",
    "output = pd.concat([customers_id, prediction], axis=1)\n",
    "output.head()"
   ]
  },
  {
   "cell_type": "markdown",
   "metadata": {},
   "source": [
    "#### Saving the output"
   ]
  },
  {
   "cell_type": "code",
   "execution_count": 21,
   "metadata": {},
   "outputs": [],
   "source": [
    "output.to_csv('part_2_output.csv', index=False)"
   ]
  }
 ],
 "metadata": {
  "kernelspec": {
   "display_name": "Python 3.10.6 ('general')",
   "language": "python",
   "name": "python3"
  },
  "language_info": {
   "codemirror_mode": {
    "name": "ipython",
    "version": 3
   },
   "file_extension": ".py",
   "mimetype": "text/x-python",
   "name": "python",
   "nbconvert_exporter": "python",
   "pygments_lexer": "ipython3",
   "version": "3.10.6"
  },
  "orig_nbformat": 4,
  "vscode": {
   "interpreter": {
    "hash": "93ba80db7eb8e04daf07a178422352a6b14caa6745ec1876f663cbafebefbfa2"
   }
  }
 },
 "nbformat": 4,
 "nbformat_minor": 2
}
